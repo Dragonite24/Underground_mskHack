{
  "nbformat": 4,
  "nbformat_minor": 0,
  "metadata": {
    "colab": {
      "name": "Untitled14.ipynb",
      "provenance": [],
      "collapsed_sections": []
    },
    "kernelspec": {
      "name": "python3",
      "display_name": "Python 3"
    },
    "language_info": {
      "name": "python"
    }
  },
  "cells": [
    {
      "cell_type": "code",
      "metadata": {
        "id": "_bepKBioY-CF"
      },
      "source": [
        "data = [\n",
        "        [0, 1, 2, 2],\n",
        "        [2, 1, 1, 1],\n",
        "        [0, 2, 1, 1],\n",
        "        [2, 2, 1, 0],\n",
        "]"
      ],
      "execution_count": 1,
      "outputs": []
    },
    {
      "cell_type": "code",
      "metadata": {
        "id": "ozHBkSRAZYfV"
      },
      "source": [
        "def corr(x, y):\n",
        "    n = len(x)\n",
        "    avg_x = sum(x) / n\n",
        "    avg_y = sum(y) / n\n",
        "\n",
        "    a = sum([(x[i] - avg_x)*(y[i] - avg_y) for i in range(n)])\n",
        "    b1 = sum([(x[i] - avg_x)**2 for i in range(n)])\n",
        "    b2 = sum([(y[i] - avg_y)**2 for i in range(n)])\n",
        "    return a / ((b1 * b2)**0.5)"
      ],
      "execution_count": 2,
      "outputs": []
    },
    {
      "cell_type": "code",
      "metadata": {
        "id": "WBVORu87azHN"
      },
      "source": [
        "def corrs(mtx, idx):\n",
        "    a = []\n",
        "    for i in range(len(mtx)):\n",
        "        if i == idx:\n",
        "            a.append(None)\n",
        "        else:\n",
        "            a.append(corr(mtx[i], mtx[idx]))\n",
        "    return a"
      ],
      "execution_count": 3,
      "outputs": []
    },
    {
      "cell_type": "code",
      "metadata": {
        "id": "SXhCo_E2dwtz"
      },
      "source": [
        "def getRecomms(data, idx):\n",
        "    \"\"\"\n",
        "    Возвращает номера рекомендаций в порядке убывания интересности\n",
        "    \"\"\"\n",
        "    crs = corrs(data, idx)\n",
        "\n",
        "    users = len(data)\n",
        "    items = len(data[0])\n",
        "\n",
        "    recomm = [0] * items\n",
        "    interests = data[idx]\n",
        "\n",
        "    for i in range(users):\n",
        "        if crs[i] != None and crs[i] >= 0:\n",
        "            for j in range(items):\n",
        "                if interests[j] == 1:\n",
        "                    recomm[j] += crs[i] * data[i][j]\n",
        "    \n",
        "    r = dict()\n",
        "\n",
        "    for i in range(items):\n",
        "        if interests[i] == 1:\n",
        "            r[recomm[i]] = i\n",
        "    r = list(r.values())\n",
        "    return list(reversed(r))\n"
      ],
      "execution_count": 4,
      "outputs": []
    },
    {
      "cell_type": "code",
      "metadata": {
        "colab": {
          "base_uri": "https://localhost:8080/"
        },
        "id": "3fIa0j1wrXrN",
        "outputId": "c5ea33f8-6c84-4652-b9c1-6a7c7d74b14a"
      },
      "source": [
        "getRecomms(data, 1)"
      ],
      "execution_count": 5,
      "outputs": [
        {
          "output_type": "execute_result",
          "data": {
            "text/plain": [
              "[3, 2, 1]"
            ]
          },
          "metadata": {
            "tags": []
          },
          "execution_count": 5
        }
      ]
    }
  ]
}